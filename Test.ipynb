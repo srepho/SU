{
 "metadata": {
  "name": "Test"
 },
 "nbformat": 3,
 "nbformat_minor": 0,
 "worksheets": [
  {
   "cells": [
    {
     "cell_type": "code",
     "collapsed": false,
     "input": "import numpy as np\nimport pandas as pd",
     "language": "python",
     "metadata": {},
     "outputs": [],
     "prompt_number": 2
    },
    {
     "cell_type": "code",
     "collapsed": false,
     "input": "train=pd.read_csv('D:/Users/soates/Downloads/kaggle/SU/test.tsv', sep='\\t')",
     "language": "python",
     "metadata": {},
     "outputs": [],
     "prompt_number": 3
    },
    {
     "cell_type": "code",
     "collapsed": false,
     "input": "train.alchemy_category_score=train.alchemy_category_score.replace(\"?\", 0)\ntrain.hasDomainLink=train.hasDomainLink.replace(\"?\", 0)",
     "language": "python",
     "metadata": {},
     "outputs": [],
     "prompt_number": 4
    },
    {
     "cell_type": "code",
     "collapsed": false,
     "input": "\"train.framebased= train.framebased.astype(object)\"\ntrain.hasDomainLink = train.hasDomainLink.astype(\"object\")\ntrain.hasDomainLink = train.is_news.astype(\"object\")\ntrain.lengthyLinkDomain = train.lengthyLinkDomain.astype(\"object\")\ntrain.news_front_page = train.news_front_page.astype(\"object\")\n\"train.label = train.label.astype(object)\"\ntrain.urlid = train.urlid.astype(\"object\")\ntrain.alchemy_category_score=train.alchemy_category_score.astype(\"float64\")\ntrain.hasDomainLink=train.hasDomainLink.replace(\"?\", 0)\ntrain.is_news=train.is_news.replace(\"?\", 0)\ntrain.news_front_page=train.news_front_page.replace(\"?\", 2)\ntrain.alchemy_category=train.alchemy_category.replace(\"?\", \"undecided\")\ntrain.alchemy_category_score=train.alchemy_category_score.replace(\"?\", 0)",
     "language": "python",
     "metadata": {},
     "outputs": [],
     "prompt_number": 6
    },
    {
     "cell_type": "code",
     "collapsed": false,
     "input": "train.url=train.url.str.split(\"/\").str[2]\ntrain.url=train.url.str.replace(\"www.\", \"\")\ntrain.url=train.url.str.replace(\".com\", \"\")\ntrain.url=train.url.str.replace(\".co.uk\", \"\")\ntrain.url=train.url.str.replace(\".net\", \"\")\ntrain.url=train.url.str.replace(\".org\", \"\")",
     "language": "python",
     "metadata": {},
     "outputs": [],
     "prompt_number": 7
    },
    {
     "cell_type": "code",
     "collapsed": false,
     "input": "train.alchemy_category=train.alchemy_category.fillna(\"undecided\")",
     "language": "python",
     "metadata": {},
     "outputs": [],
     "prompt_number": 8
    },
    {
     "cell_type": "code",
     "collapsed": false,
     "input": "\ndel train[\"boilerplate\"]",
     "language": "python",
     "metadata": {},
     "outputs": [],
     "prompt_number": 11
    },
    {
     "cell_type": "code",
     "collapsed": false,
     "input": "train.dtypes",
     "language": "python",
     "metadata": {},
     "outputs": [
      {
       "output_type": "pyout",
       "prompt_number": 12,
       "text": "url                                object\nurlid                              object\nalchemy_category                   object\nalchemy_category_score            float64\navglinksize                       float64\ncommonlinkratio_1                 float64\ncommonlinkratio_2                 float64\ncommonlinkratio_3                 float64\ncommonlinkratio_4                 float64\ncompression_ratio                 float64\nembed_ratio                       float64\nframeTagRatio                     float64\nhasDomainLink                      object\nhtml_ratio                        float64\nimage_ratio                       float64\nis_news                            object\nlengthyLinkDomain                  object\nlinkwordscore                       int64\nnews_front_page                    object\nnon_markup_alphanum_characters      int64\nnumberOfLinks                       int64\nnumwords_in_url                     int64\nparametrizedLinkRatio             float64\nspelling_errors_ratio             float64\ndtype: object"
      }
     ],
     "prompt_number": 12
    },
    {
     "cell_type": "code",
     "collapsed": false,
     "input": "train.to_csv(\"D:/Users/soates/Downloads/kaggle/SU/cleantest.csv\")",
     "language": "python",
     "metadata": {},
     "outputs": [],
     "prompt_number": 13
    },
    {
     "cell_type": "code",
     "collapsed": false,
     "input": "",
     "language": "python",
     "metadata": {},
     "outputs": [],
     "prompt_number": 254
    },
    {
     "cell_type": "code",
     "collapsed": false,
     "input": "",
     "language": "python",
     "metadata": {},
     "outputs": [],
     "prompt_number": 254
    },
    {
     "cell_type": "code",
     "collapsed": false,
     "input": "",
     "language": "python",
     "metadata": {},
     "outputs": [],
     "prompt_number": 254
    },
    {
     "cell_type": "code",
     "collapsed": false,
     "input": "",
     "language": "python",
     "metadata": {},
     "outputs": [],
     "prompt_number": 253
    },
    {
     "cell_type": "code",
     "collapsed": false,
     "input": "",
     "language": "python",
     "metadata": {},
     "outputs": [],
     "prompt_number": 254
    },
    {
     "cell_type": "code",
     "collapsed": false,
     "input": "",
     "language": "python",
     "metadata": {},
     "outputs": [],
     "prompt_number": 59
    },
    {
     "cell_type": "code",
     "collapsed": false,
     "input": "",
     "language": "python",
     "metadata": {},
     "outputs": [],
     "prompt_number": 254
    },
    {
     "cell_type": "code",
     "collapsed": false,
     "input": "",
     "language": "python",
     "metadata": {},
     "outputs": [],
     "prompt_number": 234
    },
    {
     "cell_type": "code",
     "collapsed": false,
     "input": "train1=binarizer.fit_transform(train)",
     "language": "python",
     "metadata": {},
     "outputs": [],
     "prompt_number": 238
    },
    {
     "cell_type": "code",
     "collapsed": false,
     "input": "",
     "language": "python",
     "metadata": {},
     "outputs": [],
     "prompt_number": 254
    },
    {
     "cell_type": "code",
     "collapsed": false,
     "input": "",
     "language": "python",
     "metadata": {},
     "outputs": [],
     "prompt_number": 254
    },
    {
     "cell_type": "code",
     "collapsed": false,
     "input": "train.alchemy_category_score=train.alchemy_category_score.replace(\"?\", 0)",
     "language": "python",
     "metadata": {},
     "outputs": [],
     "prompt_number": 96
    },
    {
     "cell_type": "code",
     "collapsed": false,
     "input": "",
     "language": "python",
     "metadata": {},
     "outputs": []
    }
   ],
   "metadata": {}
  }
 ]
}